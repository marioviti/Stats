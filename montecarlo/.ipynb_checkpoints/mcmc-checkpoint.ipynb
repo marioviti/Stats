{
 "cells": [
  {
   "cell_type": "markdown",
   "metadata": {},
   "source": [
    "# Estimate Pi with Monte Carlo.\n",
    "\n",
    "Monte Carlo methods are a class of computational methods based on sampling.\n",
    "Monte Carlo methods are based on the link between a function integral or a probability distribution law integral (cumulative function) and the expectation value of that law.\n",
    "\n",
    "This link can be exploited to calculate Pi as the value of the integral of a circle or radius 1."
   ]
  },
  {
   "cell_type": "code",
   "execution_count": 1,
   "metadata": {
    "collapsed": true
   },
   "outputs": [],
   "source": [
    "import random\n",
    "import numpy as np\n",
    "\n",
    "def uniform(a,b):\n",
    "    if a>b:\n",
    "        t = b\n",
    "        b = a\n",
    "        a = b\n",
    "    return (random.random())*np.abs(a-b) + a\n",
    "\n",
    "def pi_monteCarlo(N):\n",
    "    in_pi = 0\n",
    "    random.seed()\n",
    "    x = np.zeros((N,))\n",
    "    y = np.zeros((N,))\n",
    "    for i in range(N):\n",
    "        x[i] = uniform(-1,1)\n",
    "        y[i] = uniform(-1,1)\n",
    "        d = (x[i]**2 + y[i]**2)\n",
    "        if np.abs(d) <= 1:\n",
    "            in_pi +=1\n",
    "    pi = 4*( in_pi/float(N) )\n",
    "    return pi, x, y\n",
    "\n",
    "N = int(1e5) # 100000 trials\n",
    "pi,x,y = pi_monteCarlo(N)\n",
    "print pi"
   ]
  }
 ],
 "metadata": {
  "kernelspec": {
   "display_name": "Python 2",
   "language": "python",
   "name": "python2"
  },
  "language_info": {
   "codemirror_mode": {
    "name": "ipython",
    "version": 2
   },
   "file_extension": ".py",
   "mimetype": "text/x-python",
   "name": "python",
   "nbconvert_exporter": "python",
   "pygments_lexer": "ipython2",
   "version": "2.7.6"
  }
 },
 "nbformat": 4,
 "nbformat_minor": 0
}
